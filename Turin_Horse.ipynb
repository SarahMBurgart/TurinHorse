{
 "cells": [
  {
   "cell_type": "code",
   "execution_count": 1,
   "metadata": {},
   "outputs": [],
   "source": [
    "import pandas as pd\n",
    "import numpy as np"
   ]
  },
  {
   "cell_type": "code",
   "execution_count": 2,
   "metadata": {},
   "outputs": [],
   "source": [
    "# from https://github.com/TimeMagazine/congressional-election-results\n",
    "\n",
    "cong2004 = pd.read_csv(\"results_2004.txt\")\n",
    "cong2006 = pd.read_csv(\"results_2006.txt\")\n",
    "cong2008 = pd.read_csv(\"results_2008.txt\")\n",
    "cong2010 = pd.read_csv(\"results_2010.txt\")\n",
    "cong2012 = pd.read_csv(\"results_2012.txt\")\n",
    "cong2014 = pd.read_csv(\"results_2014.txt\")"
   ]
  },
  {
   "cell_type": "code",
   "execution_count": 3,
   "metadata": {},
   "outputs": [],
   "source": [
    "results = pd.concat([cong2004, cong2006, cong2008, cong2010, cong2012, cong2014])\n"
   ]
  },
  {
   "cell_type": "code",
   "execution_count": 4,
   "metadata": {},
   "outputs": [],
   "source": [
    "# from https://github.com/MEDSL\n",
    "\n",
    "senate2018 = pd.read_csv(\"senate_overall_2018.txt\")"
   ]
  },
  {
   "cell_type": "code",
   "execution_count": 19,
   "metadata": {},
   "outputs": [
    {
     "data": {
      "text/html": [
       "<div>\n",
       "<style scoped>\n",
       "    .dataframe tbody tr th:only-of-type {\n",
       "        vertical-align: middle;\n",
       "    }\n",
       "\n",
       "    .dataframe tbody tr th {\n",
       "        vertical-align: top;\n",
       "    }\n",
       "\n",
       "    .dataframe thead th {\n",
       "        text-align: right;\n",
       "    }\n",
       "</style>\n",
       "<table border=\"1\" class=\"dataframe\">\n",
       "  <thead>\n",
       "    <tr style=\"text-align: right;\">\n",
       "      <th></th>\n",
       "      <th>id</th>\n",
       "      <th>year</th>\n",
       "      <th>name</th>\n",
       "      <th>state</th>\n",
       "      <th>district</th>\n",
       "      <th>votes</th>\n",
       "      <th>parties</th>\n",
       "    </tr>\n",
       "  </thead>\n",
       "  <tbody>\n",
       "    <tr>\n",
       "      <th>0</th>\n",
       "      <td>2004_AL_01</td>\n",
       "      <td>2004</td>\n",
       "      <td>Bonner, Jo</td>\n",
       "      <td>AL</td>\n",
       "      <td>01</td>\n",
       "      <td>161067</td>\n",
       "      <td>Republican</td>\n",
       "    </tr>\n",
       "    <tr>\n",
       "      <th>1</th>\n",
       "      <td>2004_AL_01</td>\n",
       "      <td>2004</td>\n",
       "      <td>Belk, Judy</td>\n",
       "      <td>AL</td>\n",
       "      <td>01</td>\n",
       "      <td>93938</td>\n",
       "      <td>Democratic</td>\n",
       "    </tr>\n",
       "    <tr>\n",
       "      <th>2</th>\n",
       "      <td>2004_AL_02</td>\n",
       "      <td>2004</td>\n",
       "      <td>Everett, Terry</td>\n",
       "      <td>AL</td>\n",
       "      <td>02</td>\n",
       "      <td>177086</td>\n",
       "      <td>Republican</td>\n",
       "    </tr>\n",
       "    <tr>\n",
       "      <th>3</th>\n",
       "      <td>2004_AL_02</td>\n",
       "      <td>2004</td>\n",
       "      <td>James, Charles D. (Chuck)</td>\n",
       "      <td>AL</td>\n",
       "      <td>02</td>\n",
       "      <td>70562</td>\n",
       "      <td>Democratic</td>\n",
       "    </tr>\n",
       "    <tr>\n",
       "      <th>4</th>\n",
       "      <td>2004_AL_03</td>\n",
       "      <td>2004</td>\n",
       "      <td>Rogers, Mike</td>\n",
       "      <td>AL</td>\n",
       "      <td>03</td>\n",
       "      <td>150411</td>\n",
       "      <td>Republican</td>\n",
       "    </tr>\n",
       "  </tbody>\n",
       "</table>\n",
       "</div>"
      ],
      "text/plain": [
       "           id  year                       name state district   votes  \\\n",
       "0  2004_AL_01  2004                 Bonner, Jo    AL       01  161067   \n",
       "1  2004_AL_01  2004                 Belk, Judy    AL       01   93938   \n",
       "2  2004_AL_02  2004             Everett, Terry    AL       02  177086   \n",
       "3  2004_AL_02  2004  James, Charles D. (Chuck)    AL       02   70562   \n",
       "4  2004_AL_03  2004               Rogers, Mike    AL       03  150411   \n",
       "\n",
       "      parties  \n",
       "0  Republican  \n",
       "1  Democratic  \n",
       "2  Republican  \n",
       "3  Democratic  \n",
       "4  Republican  "
      ]
     },
     "execution_count": 19,
     "metadata": {},
     "output_type": "execute_result"
    }
   ],
   "source": [
    "results.head()"
   ]
  },
  {
   "cell_type": "code",
   "execution_count": 5,
   "metadata": {},
   "outputs": [
    {
     "data": {
      "text/html": [
       "<div>\n",
       "<style scoped>\n",
       "    .dataframe tbody tr th:only-of-type {\n",
       "        vertical-align: middle;\n",
       "    }\n",
       "\n",
       "    .dataframe tbody tr th {\n",
       "        vertical-align: top;\n",
       "    }\n",
       "\n",
       "    .dataframe thead th {\n",
       "        text-align: right;\n",
       "    }\n",
       "</style>\n",
       "<table border=\"1\" class=\"dataframe\">\n",
       "  <thead>\n",
       "    <tr style=\"text-align: right;\">\n",
       "      <th></th>\n",
       "      <th>id</th>\n",
       "      <th>year</th>\n",
       "      <th>name</th>\n",
       "      <th>state</th>\n",
       "      <th>district</th>\n",
       "      <th>votes</th>\n",
       "      <th>parties</th>\n",
       "    </tr>\n",
       "  </thead>\n",
       "  <tbody>\n",
       "    <tr>\n",
       "      <th>0</th>\n",
       "      <td>2004_AL_01</td>\n",
       "      <td>2004</td>\n",
       "      <td>Bonner, Jo</td>\n",
       "      <td>AL</td>\n",
       "      <td>01</td>\n",
       "      <td>161067</td>\n",
       "      <td>Republican</td>\n",
       "    </tr>\n",
       "    <tr>\n",
       "      <th>1</th>\n",
       "      <td>2004_AL_01</td>\n",
       "      <td>2004</td>\n",
       "      <td>Belk, Judy</td>\n",
       "      <td>AL</td>\n",
       "      <td>01</td>\n",
       "      <td>93938</td>\n",
       "      <td>Democratic</td>\n",
       "    </tr>\n",
       "    <tr>\n",
       "      <th>2</th>\n",
       "      <td>2004_AL_02</td>\n",
       "      <td>2004</td>\n",
       "      <td>Everett, Terry</td>\n",
       "      <td>AL</td>\n",
       "      <td>02</td>\n",
       "      <td>177086</td>\n",
       "      <td>Republican</td>\n",
       "    </tr>\n",
       "    <tr>\n",
       "      <th>3</th>\n",
       "      <td>2004_AL_02</td>\n",
       "      <td>2004</td>\n",
       "      <td>James, Charles D. (Chuck)</td>\n",
       "      <td>AL</td>\n",
       "      <td>02</td>\n",
       "      <td>70562</td>\n",
       "      <td>Democratic</td>\n",
       "    </tr>\n",
       "    <tr>\n",
       "      <th>4</th>\n",
       "      <td>2004_AL_03</td>\n",
       "      <td>2004</td>\n",
       "      <td>Rogers, Mike</td>\n",
       "      <td>AL</td>\n",
       "      <td>03</td>\n",
       "      <td>150411</td>\n",
       "      <td>Republican</td>\n",
       "    </tr>\n",
       "  </tbody>\n",
       "</table>\n",
       "</div>"
      ],
      "text/plain": [
       "           id  year                       name state district   votes  \\\n",
       "0  2004_AL_01  2004                 Bonner, Jo    AL       01  161067   \n",
       "1  2004_AL_01  2004                 Belk, Judy    AL       01   93938   \n",
       "2  2004_AL_02  2004             Everett, Terry    AL       02  177086   \n",
       "3  2004_AL_02  2004  James, Charles D. (Chuck)    AL       02   70562   \n",
       "4  2004_AL_03  2004               Rogers, Mike    AL       03  150411   \n",
       "\n",
       "      parties  \n",
       "0  Republican  \n",
       "1  Democratic  \n",
       "2  Republican  \n",
       "3  Democratic  \n",
       "4  Republican  "
      ]
     },
     "execution_count": 5,
     "metadata": {},
     "output_type": "execute_result"
    }
   ],
   "source": [
    "cong2004.head()"
   ]
  },
  {
   "cell_type": "code",
   "execution_count": 6,
   "metadata": {},
   "outputs": [
    {
     "data": {
      "text/html": [
       "<div>\n",
       "<style scoped>\n",
       "    .dataframe tbody tr th:only-of-type {\n",
       "        vertical-align: middle;\n",
       "    }\n",
       "\n",
       "    .dataframe tbody tr th {\n",
       "        vertical-align: top;\n",
       "    }\n",
       "\n",
       "    .dataframe thead th {\n",
       "        text-align: right;\n",
       "    }\n",
       "</style>\n",
       "<table border=\"1\" class=\"dataframe\">\n",
       "  <thead>\n",
       "    <tr style=\"text-align: right;\">\n",
       "      <th></th>\n",
       "      <th>year</th>\n",
       "      <th>state</th>\n",
       "      <th>state_po</th>\n",
       "      <th>state_fips</th>\n",
       "      <th>state_cen</th>\n",
       "      <th>state_ic</th>\n",
       "      <th>office</th>\n",
       "      <th>district</th>\n",
       "      <th>stage</th>\n",
       "      <th>special</th>\n",
       "      <th>candidate</th>\n",
       "      <th>party</th>\n",
       "      <th>writein</th>\n",
       "      <th>mode</th>\n",
       "      <th>candidatevotes</th>\n",
       "      <th>totalvotes</th>\n",
       "      <th>unofficial</th>\n",
       "      <th>version</th>\n",
       "    </tr>\n",
       "  </thead>\n",
       "  <tbody>\n",
       "    <tr>\n",
       "      <th>0</th>\n",
       "      <td>2018</td>\n",
       "      <td>Arizona</td>\n",
       "      <td>AZ</td>\n",
       "      <td>4</td>\n",
       "      <td>86</td>\n",
       "      <td>61</td>\n",
       "      <td>US Senate</td>\n",
       "      <td>statewide</td>\n",
       "      <td>gen</td>\n",
       "      <td>False</td>\n",
       "      <td>Martha McSally</td>\n",
       "      <td>republican</td>\n",
       "      <td>False</td>\n",
       "      <td>total</td>\n",
       "      <td>1135200</td>\n",
       "      <td>2384308</td>\n",
       "      <td>False</td>\n",
       "      <td>20190110</td>\n",
       "    </tr>\n",
       "    <tr>\n",
       "      <th>1</th>\n",
       "      <td>2018</td>\n",
       "      <td>Arizona</td>\n",
       "      <td>AZ</td>\n",
       "      <td>4</td>\n",
       "      <td>86</td>\n",
       "      <td>61</td>\n",
       "      <td>US Senate</td>\n",
       "      <td>statewide</td>\n",
       "      <td>gen</td>\n",
       "      <td>False</td>\n",
       "      <td>Kyrsten Sinema</td>\n",
       "      <td>democrat</td>\n",
       "      <td>False</td>\n",
       "      <td>total</td>\n",
       "      <td>1191100</td>\n",
       "      <td>2384308</td>\n",
       "      <td>False</td>\n",
       "      <td>20190110</td>\n",
       "    </tr>\n",
       "    <tr>\n",
       "      <th>2</th>\n",
       "      <td>2018</td>\n",
       "      <td>Arizona</td>\n",
       "      <td>AZ</td>\n",
       "      <td>4</td>\n",
       "      <td>86</td>\n",
       "      <td>61</td>\n",
       "      <td>US Senate</td>\n",
       "      <td>statewide</td>\n",
       "      <td>gen</td>\n",
       "      <td>False</td>\n",
       "      <td>Angela Green</td>\n",
       "      <td>green</td>\n",
       "      <td>False</td>\n",
       "      <td>total</td>\n",
       "      <td>57442</td>\n",
       "      <td>2384308</td>\n",
       "      <td>False</td>\n",
       "      <td>20190110</td>\n",
       "    </tr>\n",
       "    <tr>\n",
       "      <th>3</th>\n",
       "      <td>2018</td>\n",
       "      <td>Arizona</td>\n",
       "      <td>AZ</td>\n",
       "      <td>4</td>\n",
       "      <td>86</td>\n",
       "      <td>61</td>\n",
       "      <td>US Senate</td>\n",
       "      <td>statewide</td>\n",
       "      <td>gen</td>\n",
       "      <td>False</td>\n",
       "      <td>NaN</td>\n",
       "      <td>NaN</td>\n",
       "      <td>True</td>\n",
       "      <td>total</td>\n",
       "      <td>566</td>\n",
       "      <td>2384308</td>\n",
       "      <td>False</td>\n",
       "      <td>20190110</td>\n",
       "    </tr>\n",
       "    <tr>\n",
       "      <th>4</th>\n",
       "      <td>2018</td>\n",
       "      <td>California</td>\n",
       "      <td>CA</td>\n",
       "      <td>6</td>\n",
       "      <td>93</td>\n",
       "      <td>71</td>\n",
       "      <td>US Senate</td>\n",
       "      <td>statewide</td>\n",
       "      <td>gen</td>\n",
       "      <td>False</td>\n",
       "      <td>Dianne Feinstein</td>\n",
       "      <td>democrat</td>\n",
       "      <td>False</td>\n",
       "      <td>total</td>\n",
       "      <td>6019422</td>\n",
       "      <td>11113364</td>\n",
       "      <td>False</td>\n",
       "      <td>20190110</td>\n",
       "    </tr>\n",
       "  </tbody>\n",
       "</table>\n",
       "</div>"
      ],
      "text/plain": [
       "   year       state state_po  state_fips  state_cen  state_ic     office  \\\n",
       "0  2018     Arizona       AZ           4         86        61  US Senate   \n",
       "1  2018     Arizona       AZ           4         86        61  US Senate   \n",
       "2  2018     Arizona       AZ           4         86        61  US Senate   \n",
       "3  2018     Arizona       AZ           4         86        61  US Senate   \n",
       "4  2018  California       CA           6         93        71  US Senate   \n",
       "\n",
       "    district stage  special         candidate       party  writein   mode  \\\n",
       "0  statewide   gen    False    Martha McSally  republican    False  total   \n",
       "1  statewide   gen    False    Kyrsten Sinema    democrat    False  total   \n",
       "2  statewide   gen    False      Angela Green       green    False  total   \n",
       "3  statewide   gen    False               NaN         NaN     True  total   \n",
       "4  statewide   gen    False  Dianne Feinstein    democrat    False  total   \n",
       "\n",
       "   candidatevotes  totalvotes  unofficial   version  \n",
       "0         1135200     2384308       False  20190110  \n",
       "1         1191100     2384308       False  20190110  \n",
       "2           57442     2384308       False  20190110  \n",
       "3             566     2384308       False  20190110  \n",
       "4         6019422    11113364       False  20190110  "
      ]
     },
     "execution_count": 6,
     "metadata": {},
     "output_type": "execute_result"
    }
   ],
   "source": [
    "senate2018.head()"
   ]
  },
  {
   "cell_type": "code",
   "execution_count": 52,
   "metadata": {},
   "outputs": [],
   "source": [
    "# from https://transition.fec.gov/general/FederalElections2016.shtml\n",
    "\n",
    "senate2016 = pd.read_excel(\"federal2016.xlsx\", \"2016 US Senate Results by State\")\n",
    "house2016 = pd.read_excel(\"federal2016.xlsx\", \"2016 US House Results by State\")\n",
    "federal2016 = pd.concat([senate2016, house2016])\n",
    "\n",
    "senate2014 = pd.read_excel(\"federal2014.xls\", \"2014 US Senate Results by State\")\n",
    "house2014 = pd.read_excel(\"federal2014.xls\", \"2014 US House Results by State\")\n",
    "federal2014 = pd.concat([senate2014, house2014])\n",
    "\n",
    "federal2012 = pd.read_excel(\"federal2012.xls\", \"2012 US House & Senate Results\")\n",
    "\n",
    "fed12_16 = pd.concat([federal2016, federal2014, federal2012])\n",
    "fed12_16.drop(1, axis=1, inplace=True)\n",
    "fed12_16.drop(1, axis=0, inplace=True)"
   ]
  },
  {
   "cell_type": "code",
   "execution_count": 113,
   "metadata": {},
   "outputs": [],
   "source": [
    "\n",
    "fed12_16.columns = [\"STATE ABBREVIATION\", \"STATE\", \"DISTRICT\", \"FEC ID#\", \"INCUMBENT INDICATOR (I)\", \"CANDIDATE NAME (FIRST)\", \"CANDIDATE NAME (LAST)\", \"CANDIDATE NAME (LAST, FIRST)\", \"TOTAL VOTES\", \"PARTY\", \"PRIMARY VOTES\", \"PRIMARY %\", \"PRIMARY RUNOFF VOTES\", \"PRIMARY RUNOFF %\", \"GENERAL VOTES\", \"GENERAL %\", 'GENERAL RUNOFF VOTES', 'GENERAL RUNOFF %', 'COMBINED GE PARTY TOTALS (CT, NY, SC)', 'COMBINED % (CT, NY, SC)', 'GENERAL WINNER INDICATOR', 'FOOTNOTES']\n",
    "cols = fed12_16.columns\n"
   ]
  },
  {
   "cell_type": "code",
   "execution_count": 128,
   "metadata": {},
   "outputs": [],
   "source": [
    "federal2010 = pd.read_excel(\"federal2010.xls\", \"2010 US House & Senate Results\")\n",
    "federal2010.drop(\"Unnamed: 20\",axis=1, inplace = True)\n",
    "federal2010.drop(1, axis=1, inplace=True)"
   ]
  },
  {
   "cell_type": "code",
   "execution_count": 129,
   "metadata": {},
   "outputs": [],
   "source": [
    "federal2010.rename(columns={'CANDIDATE NAME (First)': 'CANDIDATE NAME (FIRST)', 'CANDIDATE NAME (Last)': 'CANDIDATE NAME (LAST)', 'CANDIDATE NAME (Last, First)': 'CANDIDATE NAME (LAST, FIRST)', \"PRIMARY\": \"PRIMARY VOTES\", \"RUNOFF\": \"PRIMARY RUNOFF VOTES\", 'RUNOFF %': \"PRIMARY RUNOFF %\", \"GENERAL \": \"GENERAL VOTES\"}, inplace=True)\n"
   ]
  },
  {
   "cell_type": "code",
   "execution_count": 130,
   "metadata": {},
   "outputs": [
    {
     "data": {
      "text/plain": [
       "[(0, 'STATE'),\n",
       " (1, 'STATE ABBREVIATION'),\n",
       " (2, 'DISTRICT'),\n",
       " (3, 'FEC ID#'),\n",
       " (4, 'INCUMBENT INDICATOR (I)'),\n",
       " (5, 'CANDIDATE NAME (FIRST)'),\n",
       " (6, 'CANDIDATE NAME (LAST)'),\n",
       " (7, 'CANDIDATE NAME (LAST, FIRST)'),\n",
       " (8, 'TOTAL VOTES'),\n",
       " (9, 'PARTY'),\n",
       " (10, 'PRIMARY VOTES'),\n",
       " (11, 'PRIMARY %'),\n",
       " (12, 'PRIMARY RUNOFF VOTES'),\n",
       " (13, 'PRIMARY RUNOFF %'),\n",
       " (14, 'GENERAL VOTES'),\n",
       " (15, 'GENERAL %'),\n",
       " (16, 'COMBINED GE PARTY TOTALS (CT, NY, SC)'),\n",
       " (17, 'COMBINED % (CT, NY, SC)'),\n",
       " (18, 'FOOTNOTES')]"
      ]
     },
     "execution_count": 130,
     "metadata": {},
     "output_type": "execute_result"
    }
   ],
   "source": [
    "list(enumerate(federal2010.columns))\n",
    "\n"
   ]
  },
  {
   "cell_type": "code",
   "execution_count": 132,
   "metadata": {},
   "outputs": [
    {
     "data": {
      "text/plain": [
       "[(0, 'STATE ABBREVIATION'),\n",
       " (1, 'STATE'),\n",
       " (2, 'DISTRICT'),\n",
       " (3, 'FEC ID#'),\n",
       " (4, 'INCUMBENT INDICATOR (I)'),\n",
       " (5, 'CANDIDATE NAME (FIRST)'),\n",
       " (6, 'CANDIDATE NAME (LAST)'),\n",
       " (7, 'CANDIDATE NAME (LAST, FIRST)'),\n",
       " (8, 'TOTAL VOTES'),\n",
       " (9, 'PARTY'),\n",
       " (10, 'PRIMARY VOTES'),\n",
       " (11, 'PRIMARY %'),\n",
       " (12, 'PRIMARY RUNOFF VOTES'),\n",
       " (13, 'PRIMARY RUNOFF %'),\n",
       " (14, 'GENERAL VOTES'),\n",
       " (15, 'GENERAL %'),\n",
       " (16, 'GENERAL RUNOFF VOTES'),\n",
       " (17, 'GENERAL RUNOFF %'),\n",
       " (18, 'COMBINED GE PARTY TOTALS (CT, NY, SC)'),\n",
       " (19, 'COMBINED % (CT, NY, SC)'),\n",
       " (20, 'GENERAL WINNER INDICATOR'),\n",
       " (21, 'FOOTNOTES')]"
      ]
     },
     "execution_count": 132,
     "metadata": {},
     "output_type": "execute_result"
    }
   ],
   "source": [
    "\n",
    "federal2010['GENERAL RUNOFF VOTES'] = np.nan\n",
    "federal2010['GENERAL RUNOFF %'] = np.nan\n",
    "federal2010['GENERAL WINNER INDICATOR'] = np.nan\n",
    "\n",
    "federal2010 = federal2010[cols]\n",
    "\n",
    "list(enumerate(federal2010.columns))\n",
    "# add 'GE RUNOFF ELECTION VOTES (LA)', 'GE RUNOFF ELECTION % (LA)'\n",
    "# 'GE WINNER INDICATOR'"
   ]
  },
  {
   "cell_type": "code",
   "execution_count": null,
   "metadata": {},
   "outputs": [],
   "source": []
  },
  {
   "cell_type": "code",
   "execution_count": 34,
   "metadata": {},
   "outputs": [],
   "source": [
    "federal2008 = pd.read_excel(\"federal2008.xls\", \"2008 House and Senate Results\")\n",
    "\n",
    "federal2006 = pd.read_excel(\"federal2006.xls\", \"2006 US House & Senate Results\")\n",
    "\n",
    "federal2004 = pd.read_excel(\"federal2004.xls\", \"2004 US HOUSE & SENATE RESULTS\")"
   ]
  },
  {
   "cell_type": "code",
   "execution_count": 42,
   "metadata": {},
   "outputs": [
    {
     "data": {
      "text/plain": [
       "array([ True,  True,  True,  True,  True,  True,  True,  True,  True,\n",
       "        True,  True,  True,  True,  True,  True,  True,  True,  True,\n",
       "        True,  True,  True,  True,  True])"
      ]
     },
     "execution_count": 42,
     "metadata": {},
     "output_type": "execute_result"
    }
   ],
   "source": [
    "# columns are the same for 16, 14, 12"
   ]
  },
  {
   "cell_type": "code",
   "execution_count": 133,
   "metadata": {},
   "outputs": [],
   "source": [
    "\n",
    "federal2008.drop(1, axis=1, inplace=True)\n",
    "\n"
   ]
  },
  {
   "cell_type": "code",
   "execution_count": 142,
   "metadata": {},
   "outputs": [
    {
     "data": {
      "text/plain": [
       "Index(['STATE', 'STATE ABBREVIATION', 'DISTRICT', 'FEC ID#',\n",
       "       'INCUMBENT INDICATOR (I)', 'CANDIDATE NAME (FIRST)',\n",
       "       'CANDIDATE NAME (LAST)', 'CANDIDATE NAME (LAST, FIRST)', 'TOTAL VOTES',\n",
       "       'PARTY', 'PRIMARY VOTES', 'PRIMARY %', 'PRIMARY RUNOFF VOTES',\n",
       "       'PRIMARY RUNOFF %', 'GENERAL VOTES', 'GENERAL %',\n",
       "       'GENERAL RUNOFF VOTES', 'GENERAL RUNOFF %',\n",
       "       'COMBINED GE PARTY TOTALS (CT, NY)', 'COMBINED % (CT, NY)',\n",
       "       'FOOTNOTES'],\n",
       "      dtype='object')"
      ]
     },
     "execution_count": 142,
     "metadata": {},
     "output_type": "execute_result"
    }
   ],
   "source": [
    "federal2008.rename(columns={'CANDIDATE NAME (First)': 'CANDIDATE NAME (FIRST)', 'Candidate Name (Last)': 'CANDIDATE NAME (LAST)', 'CANDIDATE NAME': 'CANDIDATE NAME (LAST, FIRST)', \"PRIMARY\": \"PRIMARY VOTES\", \"RUNOFF\": \"PRIMARY RUNOFF VOTES\", 'RUNOFF %': \"PRIMARY RUNOFF %\", \"GENERAL \": \"GENERAL VOTES\", \"GE RUNOFF\": \"GENERAL RUNOFF VOTES\", \"GE RUNOFF %\": \"GENERAL RUNOFF %\"}, inplace=True)\n",
    "federal2008.columns"
   ]
  },
  {
   "cell_type": "code",
   "execution_count": 146,
   "metadata": {},
   "outputs": [],
   "source": [
    "\n",
    "federal2006.drop(\"#\", axis=1, inplace=True)\n"
   ]
  },
  {
   "cell_type": "code",
   "execution_count": 160,
   "metadata": {},
   "outputs": [],
   "source": [
    "federal2006.rename(columns={\"FEC ID\":\"FEC ID#\", \"FIRST NAME\": \"CANDIDATE NAME (FIRST)\", \"LAST NAME\":\"CANDIDATE NAME (LAST)\", \"LAST NAME, FIRST\": \"CANDIDATE NAME (LAST, FIRST)\", \"PRIMARY\": \"PRIMARY VOTES\", \"RUNOFF\": \"PRIMARY RUNOFF VOTES\", \"RUNOFF %\": \"PRIMARY RUNOFF %\", \"GENERAL\": \"GENERAL VOTES\", \"GE RUNOFF\": \"GENERAL RUNOFF VOTES\", \"GE RUNOFF %\": \"GENERAL RUNOFF %\", \"Notes (See Endnotes Tab)\": 'FOOTNOTES'}, inplace=True)\n"
   ]
  },
  {
   "cell_type": "code",
   "execution_count": 161,
   "metadata": {},
   "outputs": [
    {
     "name": "stdout",
     "output_type": "stream",
     "text": [
      "<class 'pandas.core.frame.DataFrame'>\n",
      "RangeIndex: 3710 entries, 0 to 3709\n",
      "Data columns (total 21 columns):\n",
      "STATE                                3710 non-null object\n",
      "STATE ABBREVIATION                   3710 non-null object\n",
      "DISTRICT                             3710 non-null object\n",
      "FEC ID#                              2090 non-null object\n",
      "INCUMBENT INDICATOR                  496 non-null object\n",
      "CANDIDATE NAME (FIRST)               2158 non-null object\n",
      "CANDIDATE NAME (LAST)                2377 non-null object\n",
      "CANDIDATE NAME (LAST, FIRST)         2378 non-null object\n",
      "TOTAL VOTES                          1332 non-null object\n",
      "PARTY                                3171 non-null object\n",
      "PRIMARY VOTES                        3128 non-null object\n",
      "PRIMARY %                            1546 non-null float64\n",
      "PRIMARY RUNOFF VOTES                 37 non-null float64\n",
      "PRIMARY RUNOFF %                     16 non-null float64\n",
      "GENERAL VOTES                        2091 non-null object\n",
      "GENERAL %                            1562 non-null float64\n",
      "GENERAL RUNOFF VOTES                 8 non-null float64\n",
      "GENERAL RUNOFF %                     4 non-null float64\n",
      "COMBINED GE PARTY TOTALS (NY, SC)    118 non-null float64\n",
      "COMBINED % (NY, SC)                  118 non-null float64\n",
      "FOOTNOTES                            368 non-null object\n",
      "dtypes: float64(8), object(13)\n",
      "memory usage: 608.8+ KB\n"
     ]
    }
   ],
   "source": [
    "federal2006.info()"
   ]
  },
  {
   "cell_type": "code",
   "execution_count": 165,
   "metadata": {},
   "outputs": [
    {
     "name": "stderr",
     "output_type": "stream",
     "text": [
      "/anaconda3/lib/python3.7/site-packages/ipykernel_launcher.py:1: FutureWarning: Sorting because non-concatenation axis is not aligned. A future version\n",
      "of pandas will change to not sort by default.\n",
      "\n",
      "To accept the future behavior, pass 'sort=False'.\n",
      "\n",
      "To retain the current behavior and silence the warning, pass 'sort=True'.\n",
      "\n",
      "  \"\"\"Entry point for launching an IPython kernel.\n"
     ]
    }
   ],
   "source": [
    "results = pd.concat([fed12_16, federal2010, federal2008, federal2006], axis=0)"
   ]
  },
  {
   "cell_type": "code",
   "execution_count": 167,
   "metadata": {},
   "outputs": [
    {
     "name": "stdout",
     "output_type": "stream",
     "text": [
      "<class 'pandas.core.frame.DataFrame'>\n",
      "Int64Index: 26640 entries, 0 to 3709\n",
      "Data columns (total 27 columns):\n",
      "CANDIDATE NAME (FIRST)                   15066 non-null object\n",
      "CANDIDATE NAME (LAST)                    16590 non-null object\n",
      "CANDIDATE NAME (LAST, FIRST)             17054 non-null object\n",
      "COMBINED % (CT, NY)                      119 non-null float64\n",
      "COMBINED % (CT, NY, SC)                  649 non-null float64\n",
      "COMBINED % (NY, SC)                      118 non-null float64\n",
      "COMBINED GE PARTY TOTALS (CT, NY)        119 non-null float64\n",
      "COMBINED GE PARTY TOTALS (CT, NY, SC)    649 non-null float64\n",
      "COMBINED GE PARTY TOTALS (NY, SC)        118 non-null float64\n",
      "DISTRICT                                 24973 non-null object\n",
      "FEC ID#                                  14693 non-null object\n",
      "FOOTNOTES                                1878 non-null object\n",
      "GENERAL %                                9886 non-null float64\n",
      "GENERAL RUNOFF %                         20 non-null float64\n",
      "GENERAL RUNOFF VOTES                     35 non-null float64\n",
      "GENERAL VOTES                            13099 non-null object\n",
      "GENERAL WINNER INDICATOR                 1534 non-null object\n",
      "INCUMBENT INDICATOR                      496 non-null object\n",
      "INCUMBENT INDICATOR (I)                  2439 non-null object\n",
      "PARTY                                    21157 non-null object\n",
      "PRIMARY %                                11103 non-null object\n",
      "PRIMARY RUNOFF %                         194 non-null float64\n",
      "PRIMARY RUNOFF VOTES                     488 non-null object\n",
      "PRIMARY VOTES                            20692 non-null object\n",
      "STATE                                    26342 non-null object\n",
      "STATE ABBREVIATION                       26343 non-null object\n",
      "TOTAL VOTES                              7815 non-null object\n",
      "dtypes: float64(10), object(17)\n",
      "memory usage: 5.7+ MB\n"
     ]
    }
   ],
   "source": [
    "results.info()"
   ]
  },
  {
   "cell_type": "code",
   "execution_count": 169,
   "metadata": {},
   "outputs": [
    {
     "data": {
      "text/plain": [
       "26640"
      ]
     },
     "execution_count": 169,
     "metadata": {},
     "output_type": "execute_result"
    }
   ],
   "source": []
  },
  {
   "cell_type": "code",
   "execution_count": null,
   "metadata": {},
   "outputs": [],
   "source": []
  }
 ],
 "metadata": {
  "kernelspec": {
   "display_name": "Python 3",
   "language": "python",
   "name": "python3"
  },
  "language_info": {
   "codemirror_mode": {
    "name": "ipython",
    "version": 3
   },
   "file_extension": ".py",
   "mimetype": "text/x-python",
   "name": "python",
   "nbconvert_exporter": "python",
   "pygments_lexer": "ipython3",
   "version": "3.7.3"
  }
 },
 "nbformat": 4,
 "nbformat_minor": 2
}
